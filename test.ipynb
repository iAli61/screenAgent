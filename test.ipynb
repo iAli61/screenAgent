{
 "cells": [
  {
   "cell_type": "code",
   "execution_count": 1,
   "id": "e511724a",
   "metadata": {},
   "outputs": [],
   "source": [
    "import os\n",
    "import base64\n",
    "import io\n",
    "from PIL import Image\n",
    "import dotenv\n",
    "from openai import AzureOpenAI\n"
   ]
  },
  {
   "cell_type": "code",
   "execution_count": 2,
   "id": "f2ea3053",
   "metadata": {},
   "outputs": [
    {
     "name": "stdout",
     "output_type": "stream",
     "text": [
      "Azure Endpoint: https://aoai-sweden-505.openai.azure.com/\n",
      "Azure API Key available: Yes\n",
      "Azure API Version: 2025-03-01-preview\n",
      "Model deployment name: gpt-4o\n"
     ]
    }
   ],
   "source": [
    "# Azure OpenAI configuration\n",
    "azure_api_key = os.getenv(\"AZURE_OPENAI_API_KEY\")\n",
    "azure_endpoint = os.getenv(\"AZURE_OPENAI_ENDPOINT\")\n",
    "azure_api_version = os.getenv(\"OPENAI_API_VERSION\", \"2023-07-01-preview\")\n",
    "model = os.getenv(\"LLM_MODEL\", \"gpt-35-turbo\")\n",
    "\n",
    "print(f\"Azure Endpoint: {azure_endpoint}\")\n",
    "print(f\"Azure API Key available: {'Yes' if azure_api_key else 'No'}\")\n",
    "print(f\"Azure API Version: {azure_api_version}\")\n",
    "print(f\"Model deployment name: {model}\")\n",
    "\n",
    "# Initialize Azure OpenAI client if enabled\n",
    "\n",
    "client = AzureOpenAI(\n",
    ")"
   ]
  },
  {
   "cell_type": "code",
   "execution_count": 5,
   "id": "d45763c6",
   "metadata": {},
   "outputs": [],
   "source": [
    "prompt = \"What is in this image?\"\n",
    "img_url = \"https://upload.wikimedia.org/wikipedia/commons/thumb/d/d5/2023_06_08_Raccoon1.jpg/1599px-2023_06_08_Raccoon1.jpg\"\n",
    "\n",
    "response = client.responses.create(\n",
    "    model=\"gpt-4v\",\n",
    "    input=[\n",
    "        {\n",
    "            \"role\": \"user\",\n",
    "            \"content\": [\n",
    "                {\"type\": \"input_text\", \"text\": prompt},\n",
    "                # {\"type\": \"input_image\", \"image_url\": f\"{img_url}\"},\n",
    "            ],\n",
    "        }\n",
    "    ],\n",
    ")"
   ]
  },
  {
   "cell_type": "code",
   "execution_count": 16,
   "id": "5df88367",
   "metadata": {},
   "outputs": [
    {
     "data": {
      "text/plain": [
       "\"It seems you've mentioned an image, but since I can't view images directly, could you describe it to me? I'd be happy to help analyze or provide information based on your description!\""
      ]
     },
     "execution_count": 16,
     "metadata": {},
     "output_type": "execute_result"
    }
   ],
   "source": [
    "response.output[0].content[0].text"
   ]
  },
  {
   "cell_type": "code",
   "execution_count": 18,
   "id": "11fd78a5",
   "metadata": {},
   "outputs": [
    {
     "name": "stdout",
     "output_type": "stream",
     "text": [
      "{'error': {'code': '404', 'message': 'Resource not found'}}\n"
     ]
    }
   ],
   "source": [
    "import requests\n",
    "\n",
    "\n",
    "# Image file path\n",
    "IMAGE_PATH = 'temp_image.png'\n",
    "\n",
    "\n",
    "# Read the image as binary\n",
    "with open(IMAGE_PATH, \"rb\") as image_file:\n",
    "    image_data = image_file.read()\n",
    "\n",
    "# Request headers and payload\n",
    "headers = {\n",
    "    \"Content-Type\": \"application/json\",\n",
    "    \"Authorization\": f\"Bearer {azure_api_key}\"\n",
    "}\n",
    "\n",
    "payload = {\n",
    "    \"model\": \"gpt-4o\",\n",
    "    \"messages\": [\n",
    "        {\"role\": \"system\", \"content\": \"Describe the image.\"},\n",
    "        {\"role\": \"user\", \"content\": image_data.decode(\"latin-1\")}\n",
    "    ]\n",
    "}\n",
    "\n",
    "# Send the request to Azure OpenAI\n",
    "response = requests.post(azure_endpoint, headers=headers, json=payload)\n",
    "\n",
    "# Print the response\n",
    "print(response.json())\n"
   ]
  },
  {
   "cell_type": "code",
   "execution_count": null,
   "id": "c52e6e2d",
   "metadata": {},
   "outputs": [],
   "source": []
  }
 ],
 "metadata": {
  "kernelspec": {
   "display_name": "base",
   "language": "python",
   "name": "python3"
  },
  "language_info": {
   "codemirror_mode": {
    "name": "ipython",
    "version": 3
   },
   "file_extension": ".py",
   "mimetype": "text/x-python",
   "name": "python",
   "nbconvert_exporter": "python",
   "pygments_lexer": "ipython3",
   "version": "3.12.7"
  }
 },
 "nbformat": 4,
 "nbformat_minor": 5
}
